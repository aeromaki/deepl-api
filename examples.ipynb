{
 "cells": [
  {
   "cell_type": "code",
   "execution_count": 1,
   "metadata": {},
   "outputs": [],
   "source": [
    "# deepl, python-dotenv 설치돼 있어야 함\n",
    "\n",
    "from DeepLWrapper import DeepLTranslator"
   ]
  },
  {
   "cell_type": "code",
   "execution_count": 2,
   "metadata": {},
   "outputs": [],
   "source": [
    "# .env에 DEEPL_API_KEY로 API key 넣어주면 됨\n",
    "translator = DeepLTranslator()\n",
    "\n",
    "# 그냥 직접 넣어주고 싶으면 이렇게\n",
    "# auth_key_str = \"YOUR_AUTH_KEY_STR\"\n",
    "# translator = DeepLTranslator(auth_key=auth_key_str)"
   ]
  },
  {
   "cell_type": "code",
   "execution_count": 3,
   "metadata": {},
   "outputs": [
    {
     "data": {
      "text/plain": [
       "['서로 돕고 배우기 위해 모인 만큼 예의를 지켜주세요.',\n",
       " '간단한 언어로 자신의 기여를 설명하세요.',\n",
       " '교과서 및 논문 참조는 언제나 환영합니다.',\n",
       " '가능한 한 예제의 코드 스타일을 따르세요.']"
      ]
     },
     "execution_count": 3,
     "metadata": {},
     "output_type": "execute_result"
    }
   ],
   "source": [
    "# Iterable[str]\n",
    "translator.translate_to_KO([\n",
    "    \"Please be polite, we are here to help and learn from each other\",\n",
    "    \"Try to explain your contribution with simple language\",\n",
    "    \"References to textbooks and papers are always welcome\",\n",
    "    \"Follow the code style in the examples as much as possible\"\n",
    "])"
   ]
  },
  {
   "cell_type": "code",
   "execution_count": 4,
   "metadata": {},
   "outputs": [
    {
     "data": {
      "text/plain": [
       "'Julia를 사용한 지리공간 데이터 과학은 지리공간 데이터와 Julia 프로그래밍 언어를 사용한 데이터 과학에 대한 새로운 접근 방식을 제시합니다. 이 책에는 2D 및 3D 기하학으로 만들어진 비정형 메시와 같은 지구 (지표)표면의 정교한 표현을 포함하는 지구과학 애플리케이션에서 깔끔하고 가독성이 높으며 성능이 우수한 코드를 작성하는 모범 사례가 포함되어 있습니다.'"
      ]
     },
     "execution_count": 4,
     "metadata": {},
     "output_type": "execute_result"
    }
   ],
   "source": [
    "# 그냥 str\n",
    "translator.translate_to_KO(\"Geospatial Data Science with Julia presents a fresh approach to data science with geospatial data and the Julia programming language. It contains best practices for writing clean, readable and performant code in geoscientific applications involving sophisticated representations of the (sub)surface of the Earth such as unstructured meshes made of 2D and 3D geometries.\")"
   ]
  },
  {
   "cell_type": "code",
   "execution_count": 5,
   "metadata": {},
   "outputs": [
    {
     "data": {
      "text/plain": [
       "['A manual for external reviewers of [graduation] theses.',\n",
       " '1> Login to the Academic Portal - Login with the ID and initial password provided in the email.',\n",
       " \"2> Change the initial randomly assigned password to the one you'll actually use\",\n",
       " '3> Log in again with the changed password, click on SIS and proceed with the secondary authentication (using Google OTP)',\n",
       " '4> Enter the Change personal information (external reviewer) menu and edit personal information',\n",
       " '5> Enter the main result (Judge) menu and enter the main result of the student to be judged.',\n",
       " '6> Enter the Degree Approval menu and check the degree approval of the student to be reviewed for degree approval.']"
      ]
     },
     "execution_count": 5,
     "metadata": {},
     "output_type": "execute_result"
    }
   ],
   "source": [
    "# 영어로\n",
    "translator.translate_to_EN([\n",
    "    \"[졸업] 논문 외부심사위원을 위한 메뉴얼입니다.\",\n",
    "    \"1> 학사포털 로그인 - 메일로 안내해드린 id,  초기 비밀번호를 통해  로그인\",\n",
    "    \"2> 랜덤한 숫자로 배정된 초기 비밀번호를 실제로 사용할 비밀번호로 변경\",\n",
    "    \"3> 변경된 비밀번호로 재 로그인 후 학사정보시스템 클릭 후 2차인증 진행 (구글 OTP 사용)\",\n",
    "    \"4> 개인정보 변경(외부심사위원) 메뉴 진입 후 개인정보 수정\",\n",
    "    \"5> 본심결과 입력(심사위원) 메뉴 진입 후 심사대상 학생의 본심결과 입력\",\n",
    "    \"6> 학위인준 메뉴 진입 후 학위 인준 심사 대상 학생의 학위 인준 확인 후 처리\"\n",
    "])"
   ]
  },
  {
   "cell_type": "code",
   "execution_count": 6,
   "metadata": {},
   "outputs": [
    {
     "data": {
      "text/plain": [
       "<map at 0x1078a5960>"
      ]
     },
     "execution_count": 6,
     "metadata": {},
     "output_type": "execute_result"
    }
   ],
   "source": [
    "# Iterable[str]로 반환\n",
    "translator.translate_to_EN([\n",
    "    \"[졸업] 논문 외부심사위원을 위한 메뉴얼입니다.\",\n",
    "    \"1> 학사포털 로그인 - 메일로 안내해드린 id,  초기 비밀번호를 통해  로그인\",\n",
    "    \"2> 랜덤한 숫자로 배정된 초기 비밀번호를 실제로 사용할 비밀번호로 변경\",\n",
    "    \"3> 변경된 비밀번호로 재 로그인 후 학사정보시스템 클릭 후 2차인증 진행 (구글 OTP 사용)\",\n",
    "    \"4> 개인정보 변경(외부심사위원) 메뉴 진입 후 개인정보 수정\",\n",
    "    \"5> 본심결과 입력(심사위원) 메뉴 진입 후 심사대상 학생의 본심결과 입력\",\n",
    "    \"6> 학위인준 메뉴 진입 후 학위 인준 심사 대상 학생의 학위 인준 확인 후 처리\"\n",
    "], return_list=False)"
   ]
  }
 ],
 "metadata": {
  "kernelspec": {
   "display_name": "pt",
   "language": "python",
   "name": "pt"
  },
  "language_info": {
   "codemirror_mode": {
    "name": "ipython",
    "version": 3
   },
   "file_extension": ".py",
   "mimetype": "text/x-python",
   "name": "python",
   "nbconvert_exporter": "python",
   "pygments_lexer": "ipython3",
   "version": "3.11.5"
  }
 },
 "nbformat": 4,
 "nbformat_minor": 2
}
